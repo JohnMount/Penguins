{
 "cells": [
  {
   "cell_type": "markdown",
   "metadata": {
    "pycharm": {
     "name": "#%% md\n"
    }
   },
   "source": [
    "[https://github.com/allisonhorst/palmerpenguins Palmer Penguins example](https://github.com/allisonhorst/palmerpenguins) ported to Python."
   ]
  },
  {
   "cell_type": "code",
   "execution_count": 1,
   "metadata": {
    "collapsed": false,
    "jupyter": {
     "outputs_hidden": false
    },
    "pycharm": {
     "is_executing": false,
     "name": "#%%\n"
    }
   },
   "outputs": [
    {
     "name": "stdout",
     "output_type": "stream",
     "text": [
      "(344, 7)\n"
     ]
    },
    {
     "data": {
      "text/html": [
       "<div>\n",
       "<style scoped>\n",
       "    .dataframe tbody tr th:only-of-type {\n",
       "        vertical-align: middle;\n",
       "    }\n",
       "\n",
       "    .dataframe tbody tr th {\n",
       "        vertical-align: top;\n",
       "    }\n",
       "\n",
       "    .dataframe thead th {\n",
       "        text-align: right;\n",
       "    }\n",
       "</style>\n",
       "<table border=\"1\" class=\"dataframe\">\n",
       "  <thead>\n",
       "    <tr style=\"text-align: right;\">\n",
       "      <th></th>\n",
       "      <th>species</th>\n",
       "      <th>island</th>\n",
       "      <th>bill_length_mm</th>\n",
       "      <th>bill_depth_mm</th>\n",
       "      <th>flipper_length_mm</th>\n",
       "      <th>body_mass_g</th>\n",
       "      <th>sex</th>\n",
       "    </tr>\n",
       "  </thead>\n",
       "  <tbody>\n",
       "    <tr>\n",
       "      <th>0</th>\n",
       "      <td>Adelie</td>\n",
       "      <td>Torgersen</td>\n",
       "      <td>39.1</td>\n",
       "      <td>18.7</td>\n",
       "      <td>181.0</td>\n",
       "      <td>3750.0</td>\n",
       "      <td>male</td>\n",
       "    </tr>\n",
       "    <tr>\n",
       "      <th>1</th>\n",
       "      <td>Adelie</td>\n",
       "      <td>Torgersen</td>\n",
       "      <td>39.5</td>\n",
       "      <td>17.4</td>\n",
       "      <td>186.0</td>\n",
       "      <td>3800.0</td>\n",
       "      <td>female</td>\n",
       "    </tr>\n",
       "    <tr>\n",
       "      <th>2</th>\n",
       "      <td>Adelie</td>\n",
       "      <td>Torgersen</td>\n",
       "      <td>40.3</td>\n",
       "      <td>18.0</td>\n",
       "      <td>195.0</td>\n",
       "      <td>3250.0</td>\n",
       "      <td>female</td>\n",
       "    </tr>\n",
       "    <tr>\n",
       "      <th>3</th>\n",
       "      <td>Adelie</td>\n",
       "      <td>Torgersen</td>\n",
       "      <td>NaN</td>\n",
       "      <td>NaN</td>\n",
       "      <td>NaN</td>\n",
       "      <td>NaN</td>\n",
       "      <td>NaN</td>\n",
       "    </tr>\n",
       "    <tr>\n",
       "      <th>4</th>\n",
       "      <td>Adelie</td>\n",
       "      <td>Torgersen</td>\n",
       "      <td>36.7</td>\n",
       "      <td>19.3</td>\n",
       "      <td>193.0</td>\n",
       "      <td>3450.0</td>\n",
       "      <td>female</td>\n",
       "    </tr>\n",
       "  </tbody>\n",
       "</table>\n",
       "</div>"
      ],
      "text/plain": [
       "  species     island  bill_length_mm  bill_depth_mm  flipper_length_mm  \\\n",
       "0  Adelie  Torgersen            39.1           18.7              181.0   \n",
       "1  Adelie  Torgersen            39.5           17.4              186.0   \n",
       "2  Adelie  Torgersen            40.3           18.0              195.0   \n",
       "3  Adelie  Torgersen             NaN            NaN                NaN   \n",
       "4  Adelie  Torgersen            36.7           19.3              193.0   \n",
       "\n",
       "   body_mass_g     sex  \n",
       "0       3750.0    male  \n",
       "1       3800.0  female  \n",
       "2       3250.0  female  \n",
       "3          NaN     NaN  \n",
       "4       3450.0  female  "
      ]
     },
     "execution_count": 1,
     "metadata": {},
     "output_type": "execute_result"
    }
   ],
   "source": [
    "import pandas\n",
    "import seaborn\n",
    "\n",
    "penguins = pandas.read_csv(\n",
    "    'https://raw.githubusercontent.com/JohnMount/Penguins/main/penguins.csv')\n",
    "penguins_raw = pandas.read_csv(\n",
    "    'https://raw.githubusercontent.com/JohnMount/Penguins/main/penguins_raw.csv')\n",
    "\n",
    "\n",
    "print(penguins.shape)\n",
    "penguins.head()"
   ]
  },
  {
   "cell_type": "code",
   "execution_count": 2,
   "metadata": {
    "collapsed": false,
    "jupyter": {
     "outputs_hidden": false
    },
    "pycharm": {
     "is_executing": false,
     "name": "#%%\n"
    }
   },
   "outputs": [
    {
     "data": {
      "text/plain": [
       "<matplotlib.axes._subplots.AxesSubplot at 0x7fa953d22990>"
      ]
     },
     "execution_count": 2,
     "metadata": {},
     "output_type": "execute_result"
    },
    {
     "data": {
      "image/png": "[encoded data removed]",
      "text/plain": [
       "<Figure size 432x288 with 1 Axes>"
      ]
     },
     "metadata": {
      "needs_background": "light"
     },
     "output_type": "display_data"
    }
   ],
   "source": [
    "seaborn.scatterplot(\n",
    "    x=\"flipper_length_mm\", \n",
    "    y=\"body_mass_g\",\n",
    "    hue=\"species\", \n",
    "    style=\"species\", data=penguins)\n"
   ]
  },
  {
   "cell_type": "markdown",
   "metadata": {
    "pycharm": {
     "name": "#%% md\n"
    }
   },
   "source": [
    "Palmer Penguins data from:\n",
    "\n",
    "  [https://github.com/allisonhorst/palmerpenguins](https://github.com/allisonhorst/palmerpenguins)\n",
    "\n",
    ">citation(\"palmerpenguins\")\n",
    ">\n",
    "> To cite palmerpenguins in publications use:\n",
    ">\n",
    ">   Gorman KB, Williams TD, Fraser WR (2014) Ecological Sexual Dimorphism\n",
    ">   and Environmental Variability within a Community of Antarctic\n",
    ">   Penguins (Genus Pygoscelis). PLoS ONE 9(3): e90081.\n",
    ">   https://doi.org/10.1371/journal.pone.0090081\n",
    ">\n",
    "> A BibTeX entry for LaTeX users is\n",
    ">\n",
    ">   @Article{,\n",
    ">     title = {Ecological Sexual Dimorphism and Environmental Variability within a Community of Antarctic Penguins (Genus Pygoscelis)},\n",
    ">     author = {Gorman KB and Williams TD and Fraser WR},\n",
    ">     journal = {PLoS ONE},\n",
    ">     year = {2014},\n",
    ">     volume = {9(3)},\n",
    ">     number = {e90081},\n",
    ">     pages = {-13},\n",
    ">     url = {https://doi.org/10.1371/journal.pone.0090081},\n",
    ">   }\n",
    "\n",
    "\n",
    "Saved using `R`:\n",
    "\n",
    "    # install.packages(\"remotes\")\n",
    "    remotes::install_github(\"allisonhorst/palmerpenguins\")\n",
    "    write.csv(penguins, 'penguins.csv', row.names = FALSE, quote = FALSE)\n",
    "    write.csv(penguins_raw, 'penguins_raw.csv', row.names = FALSE, quote = TRUE)\n",
    "\n",
    "Exported so Python users can also use this data (original package doesn't seem to currently export a csv).\n",
    "\n",
    "\n",
    "This page found here: [https://github.com/JohnMount/Penguins](https://github.com/JohnMount/Penguins)\n",
    "\n",
    "Python example here: [https://github.com/JohnMount/Penguins/blob/main/Penguins.ipynb](https://github.com/JohnMount/Penguins/blob/main/Penguins.ipynb)\n"
   ]
  }
 ],
 "metadata": {
  "kernelspec": {
   "display_name": "Python 3",
   "language": "python",
   "name": "python3"
  },
  "language_info": {
   "codemirror_mode": {
    "name": "ipython",
    "version": 3
   },
   "file_extension": ".py",
   "mimetype": "text/x-python",
   "name": "python",
   "nbconvert_exporter": "python",
   "pygments_lexer": "ipython3",
   "version": "3.7.7"
  },
  "pycharm": {
   "stem_cell": {
    "cell_type": "raw",
    "metadata": {
     "collapsed": false
    },
    "source": []
   }
  }
 },
 "nbformat": 4,
 "nbformat_minor": 4
}
